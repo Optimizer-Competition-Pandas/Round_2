{
 "cells": [
  {
   "cell_type": "code",
   "execution_count": 1,
   "id": "e83d7b33",
   "metadata": {},
   "outputs": [
    {
     "data": {
      "text/plain": [
       "MathOptInterface"
      ]
     },
     "execution_count": 1,
     "metadata": {},
     "output_type": "execute_result"
    }
   ],
   "source": [
    "using GLPK\n",
    "using Random\n",
    "using LinearAlgebra\n",
    "using MathOptInterface\n",
    "const MOI = MathOptInterface"
   ]
  },
  {
   "cell_type": "markdown",
   "id": "0766be22",
   "metadata": {},
   "source": [
    "## Loading Data"
   ]
  },
  {
   "cell_type": "code",
   "execution_count": 2,
   "id": "fd39c6ff",
   "metadata": {},
   "outputs": [
    {
     "data": {
      "text/plain": [
       "450-element Vector{String}:\n",
       " \"matrix,row,col\"\n",
       " \"S,72,95\"\n",
       " \"I,J,V\"\n",
       " \"8.0,1.0,-1.0\"\n",
       " \"10.0,1.0,1.0\"\n",
       " \"21.0,1.0,-1.0\"\n",
       " \"43.0,1.0,1.0\"\n",
       " \"50.0,1.0,-1.0\"\n",
       " \"51.0,1.0,1.0\"\n",
       " \"8.0,2.0,1.0\"\n",
       " \"9.0,2.0,-1.0\"\n",
       " \"6.0,3.0,-1.0\"\n",
       " \"12.0,3.0,1.0\"\n",
       " ⋮\n",
       " \"68.0,-0.5196655879984552\"\n",
       " \"75.0,-1.679092922126729\"\n",
       " \"76.0,-9.871766517721002e-18\"\n",
       " \"81.0,-0.3156306692199074\"\n",
       " \"82.0,-1.1541689385811602\"\n",
       " \"83.0,-0.9060345343182166\"\n",
       " \"86.0,-0.8810837748807233\"\n",
       " \"89.0,-1.2796727037563316\"\n",
       " \"91.0,-1.5079118796617184\"\n",
       " \"92.0,0.05468668371062502\"\n",
       " \"94.0,-0.6437641587296247\"\n",
       " \"95.0,-0.8732197170766789\""
      ]
     },
     "execution_count": 2,
     "metadata": {},
     "output_type": "execute_result"
    }
   ],
   "source": [
    "totaltime, totallines = open(\"T1/R2T1.txt\") do f\n",
    "    global lines = readlines(f);\n",
    "end"
   ]
  },
  {
   "cell_type": "code",
   "execution_count": 3,
   "id": "382de1f7",
   "metadata": {},
   "outputs": [
    {
     "data": {
      "text/plain": [
       "is_info_line (generic function with 1 method)"
      ]
     },
     "execution_count": 3,
     "metadata": {},
     "output_type": "execute_result"
    }
   ],
   "source": [
    "function is_info_line(a_line)\n",
    "    a_line_info = split(a_line, \",\");\n",
    "    line_indicator = a_line_info[1];\n",
    "    if cmp(line_indicator, \"matrix\") == 0 || cmp(line_indicator, \"vector\") == 0\n",
    "        return true\n",
    "    end\n",
    "    return false\n",
    "end"
   ]
  },
  {
   "cell_type": "code",
   "execution_count": 4,
   "id": "a3b9fdd3",
   "metadata": {},
   "outputs": [
    {
     "data": {
      "text/plain": [
       "get_info_end_line (generic function with 1 method)"
      ]
     },
     "execution_count": 4,
     "metadata": {},
     "output_type": "execute_result"
    }
   ],
   "source": [
    "function get_info_end_line(lines_info, t_start, t_end_file)\n",
    "    current_line = lines_info[t_start];\n",
    "    t = t_start;\n",
    "    for t in t_start:t_end_file\n",
    "        current_line = lines_info[t];\n",
    "        if is_info_line(current_line)\n",
    "            return t-1\n",
    "        end\n",
    "    end\n",
    "    return t_end_file\n",
    "end"
   ]
  },
  {
   "cell_type": "code",
   "execution_count": 5,
   "id": "65ac9cef",
   "metadata": {},
   "outputs": [
    {
     "data": {
      "text/plain": [
       "fill_matrix (generic function with 1 method)"
      ]
     },
     "execution_count": 5,
     "metadata": {},
     "output_type": "execute_result"
    }
   ],
   "source": [
    "function fill_matrix(A, n_rows, n_cols, values_vector)\n",
    "    for info_line in values_vector\n",
    "        line_info = split(info_line, \",\");\n",
    "        i_v = floor(Int64, parse(Float64, line_info[1]));\n",
    "        j_v = floor(Int64, parse(Float64, line_info[2]));\n",
    "        val = parse(Float64, line_info[3]);\n",
    "        A[i_v, j_v] = val;\n",
    "    end\n",
    "end"
   ]
  },
  {
   "cell_type": "code",
   "execution_count": 6,
   "id": "fa55af94",
   "metadata": {},
   "outputs": [
    {
     "data": {
      "text/plain": [
       "fill_vector (generic function with 1 method)"
      ]
     },
     "execution_count": 6,
     "metadata": {},
     "output_type": "execute_result"
    }
   ],
   "source": [
    "function fill_vector(vec, n_elements, values_vector)\n",
    "    for info_line in values_vector\n",
    "        line_info = split(info_line, \",\");\n",
    "        i_v = floor(Int64, parse(Float64, line_info[1]));\n",
    "        val = parse(Float64, line_info[2]);\n",
    "        vec[i_v] = val;\n",
    "    end\n",
    "end"
   ]
  },
  {
   "cell_type": "code",
   "execution_count": 7,
   "id": "8a8d1790",
   "metadata": {},
   "outputs": [
    {
     "data": {
      "text/plain": [
       "read_block (generic function with 1 method)"
      ]
     },
     "execution_count": 7,
     "metadata": {},
     "output_type": "execute_result"
    }
   ],
   "source": [
    "function read_block(t_start)\n",
    "    info_line = lines[t_start];\n",
    "    info = split(info_line, \",\");\n",
    "    t = t_start + 1;\n",
    "    \n",
    "    if cmp(info[1],\"matrix\") == 0\n",
    "        matrix_info_line = lines[t];\n",
    "        matrix_info = split(matrix_info_line, \",\");\n",
    "        matrix_name = matrix_info[1];\n",
    "        num_rows = parse(Int64, matrix_info[2]);\n",
    "        num_cols = parse(Int64, matrix_info[3]);\n",
    "        if cmp(matrix_name, \"S\") == 0\n",
    "            global m = num_rows;\n",
    "            global n = num_cols;\n",
    "            global S = zeros(m, n);\n",
    "        else\n",
    "            @show \"Something is not right here! - id:1\"\n",
    "        end\n",
    "        t = t+1;\n",
    "        IJV_line = lines[t];\n",
    "        if cmp(IJV_line, \"I,J,V\") != 0\n",
    "            @show \"Something is not right here! - id:2\"\n",
    "        end\n",
    "        t = t+1;\n",
    "        t_last = get_info_end_line(lines, t, file_num_lines);\n",
    "        fill_matrix(S, m, n, lines[t:t_last]);\n",
    "        t = t_last+1;\n",
    "        \n",
    "    elseif cmp(info[1],\"vector\") == 0\n",
    "        vector_info_line = lines[t];\n",
    "        vector_info = split(vector_info_line, \",\");\n",
    "        vector_name = vector_info[1];\n",
    "        num_elements = parse(Int64, vector_info[2]);\n",
    "        if parse(Int64, vector_info[3]) != 1\n",
    "            @show \"Something is not right here! - id:3\"\n",
    "        end\n",
    "        l_u_index = 0;\n",
    "        if cmp(vector_name, \"l1\") == 0\n",
    "            global l1 = zeros(num_elements);\n",
    "            l_u_index = 1;\n",
    "        elseif cmp(vector_name, \"u1\") == 0\n",
    "            global u1 = zeros(num_elements);\n",
    "            l_u_index = 2;\n",
    "        else\n",
    "            @show \"Something is not right here! - id:4\"\n",
    "        end\n",
    "        t = t+1;\n",
    "        IV_line = lines[t];\n",
    "        if cmp(IV_line, \"I,V\") != 0\n",
    "            @show \"Something is not right here! - id:5\"\n",
    "        end\n",
    "        t = t+1;\n",
    "        t_last = get_info_end_line(lines, t, file_num_lines);\n",
    "        if l_u_index == 1\n",
    "            fill_vector(l1, num_elements, lines[t:t_last]);\n",
    "        else\n",
    "            fill_vector(u1, num_elements, lines[t:t_last]);\n",
    "        end\n",
    "        t = t_last+1;\n",
    "    end\n",
    "    return t\n",
    "end"
   ]
  },
  {
   "cell_type": "code",
   "execution_count": 8,
   "id": "5980a840",
   "metadata": {},
   "outputs": [],
   "source": [
    "file_num_lines = length(lines)\n",
    "m = 0;\n",
    "n = 0;\n",
    "line_counter = 1;\n",
    "while line_counter < file_num_lines\n",
    "    line_counter = read_block(line_counter);\n",
    "end"
   ]
  },
  {
   "cell_type": "markdown",
   "id": "136e15f5",
   "metadata": {},
   "source": [
    "### Get Intuition From Data:"
   ]
  },
  {
   "cell_type": "code",
   "execution_count": 44,
   "id": "f364ef05",
   "metadata": {},
   "outputs": [
    {
     "data": {
      "text/plain": [
       "revise_resolution (generic function with 1 method)"
      ]
     },
     "execution_count": 44,
     "metadata": {},
     "output_type": "execute_result"
    }
   ],
   "source": [
    "function revise_resolution(m, res)\n",
    "    num_elements = length(m);\n",
    "    mp = copy(m);\n",
    "    for i in 1:num_elements\n",
    "        if abs(m[i]) < res\n",
    "            mp[i] = 0;\n",
    "        end\n",
    "    end\n",
    "    return mp\n",
    "end"
   ]
  },
  {
   "cell_type": "code",
   "execution_count": 45,
   "id": "b54a566b",
   "metadata": {},
   "outputs": [],
   "source": [
    "l_tilde = revise_resolution(l1, 2e-5);\n",
    "u_tilde = revise_resolution(u1, 2e-5);"
   ]
  },
  {
   "cell_type": "code",
   "execution_count": 46,
   "id": "d7ed4aa9",
   "metadata": {},
   "outputs": [
    {
     "data": {
      "text/plain": [
       "get_nonzero_indeces (generic function with 1 method)"
      ]
     },
     "execution_count": 46,
     "metadata": {},
     "output_type": "execute_result"
    }
   ],
   "source": [
    "function get_nonzero_indeces(l, u)\n",
    "    nonzero_ind = zeros(Int64, 0);\n",
    "    zero_indeces = zeros(Int64, 0);\n",
    "    for i in 1:n\n",
    "        if l[i]>0 || u[i]<0\n",
    "            append!(nonzero_ind, i);\n",
    "        else\n",
    "            append!(zero_indeces, i);\n",
    "        end\n",
    "    end\n",
    "    return nonzero_ind, zero_indeces\n",
    "end"
   ]
  },
  {
   "cell_type": "code",
   "execution_count": 47,
   "id": "53baa669",
   "metadata": {},
   "outputs": [],
   "source": [
    "nz_ind, z_ind = get_nonzero_indeces(l_tilde, u_tilde);"
   ]
  },
  {
   "cell_type": "code",
   "execution_count": 48,
   "id": "c620b3af",
   "metadata": {},
   "outputs": [
    {
     "data": {
      "text/plain": [
       "get_trivial_indeces (generic function with 1 method)"
      ]
     },
     "execution_count": 48,
     "metadata": {},
     "output_type": "execute_result"
    }
   ],
   "source": [
    "function get_trivial_indeces(l, u)\n",
    "    trivial_indeces = zeros(Int64, 0);\n",
    "    non_trivial_indeces = zeros(Int64, 0);\n",
    "    for i in 1:n\n",
    "        if l[i]==u[i]\n",
    "            append!(trivial_indeces, i);\n",
    "        else\n",
    "            append!(non_trivial_indeces, i);\n",
    "        end\n",
    "    end\n",
    "    return trivial_indeces, non_trivial_indeces\n",
    "end"
   ]
  },
  {
   "cell_type": "code",
   "execution_count": 49,
   "id": "1af1c54c",
   "metadata": {},
   "outputs": [],
   "source": [
    "triv_ind, non_triv_ind = get_trivial_indeces(l1, u1);"
   ]
  },
  {
   "cell_type": "code",
   "execution_count": 50,
   "id": "39aae428",
   "metadata": {},
   "outputs": [
    {
     "data": {
      "text/plain": [
       "make_full_v0 (generic function with 2 methods)"
      ]
     },
     "execution_count": 50,
     "metadata": {},
     "output_type": "execute_result"
    }
   ],
   "source": [
    "function make_full_v0(vec_hat, non_trivial_ind, n_h)\n",
    "    v0_full = zeros(n);\n",
    "    for ind in 1:n_h\n",
    "        i = non_trivial_ind[ind];\n",
    "        v0_full[i] = vec_hat[ind];\n",
    "    end\n",
    "    return v0_full\n",
    "end"
   ]
  },
  {
   "cell_type": "markdown",
   "id": "c201d766",
   "metadata": {},
   "source": [
    "## Round 2 Question:"
   ]
  },
  {
   "cell_type": "markdown",
   "id": "e34f0ae1",
   "metadata": {},
   "source": [
    "$$\n",
    "minimize  \\quad \\left\\lVert v \\right\\rVert_0 \\\\\n",
    "s.t.: \\quad Sv = 0 \\\\\n",
    " \\qquad\\qquad l^1 \\leq v \\leq u^1\n",
    "$$"
   ]
  },
  {
   "cell_type": "markdown",
   "id": "dc813d6f",
   "metadata": {},
   "source": [
    "### Solving: Randomized Weighted Objective Method"
   ]
  },
  {
   "cell_type": "code",
   "execution_count": 51,
   "id": "01b572fd",
   "metadata": {},
   "outputs": [],
   "source": [
    "eps = 1e-5;\n",
    "p = 0.8;\n",
    "NUM_RUNS = 20;"
   ]
  },
  {
   "cell_type": "code",
   "execution_count": 52,
   "id": "5d182156",
   "metadata": {},
   "outputs": [
    {
     "data": {
      "text/plain": [
       "W4 (generic function with 1 method)"
      ]
     },
     "execution_count": 52,
     "metadata": {},
     "output_type": "execute_result"
    }
   ],
   "source": [
    "function W4(W, val0, is_rand)\n",
    "    for i in 1:n_hat\n",
    "        s = abs(val0[i]) + eps;\n",
    "        W[i] = (1+s^p)/(s^(p+1));\n",
    "        if is_rand\n",
    "            W[i] = W[i] * rand()^3;\n",
    "        end\n",
    "    end\n",
    "    return W\n",
    "end"
   ]
  },
  {
   "cell_type": "code",
   "execution_count": 53,
   "id": "d218d886",
   "metadata": {},
   "outputs": [],
   "source": [
    "n_hat = length(non_triv_ind);\n",
    "S_hat = S[:, non_triv_ind];\n",
    "l1_hat = l1[non_triv_ind];\n",
    "u1_hat = u1[non_triv_ind];"
   ]
  },
  {
   "cell_type": "code",
   "execution_count": 54,
   "id": "84c5caee",
   "metadata": {},
   "outputs": [],
   "source": [
    "optimizer = GLPK.Optimizer()\n",
    "v_hat = MOI.add_variables(optimizer, n_hat)\n",
    "v_abs_hat = MOI.add_variables(optimizer, n_hat)\n",
    "# ------------------------------------------------------------------------------------\n",
    "for i in 1:n_hat\n",
    "        MOI.add_constraint(optimizer, \n",
    "                           MOI.SingleVariable(v_hat[i]), \n",
    "                           MOI.Interval(l1_hat[i], u1_hat[i]))\n",
    "end\n",
    "# ------------------------------------------------------------------------------------\n",
    "for (i,row) in enumerate(eachrow(S_hat))\n",
    "        row_function = MOI.ScalarAffineFunction(MOI.ScalarAffineTerm.(row, v_hat), 0.0);\n",
    "        MOI.add_constraint(optimizer, row_function, MOI.EqualTo(0.0))\n",
    "end\n",
    "# ------------------------------------------------------------------------------------\n",
    "for i in 1:n_hat\n",
    "        abs_plus = MOI.ScalarAffineFunction(MOI.ScalarAffineTerm.([1.0, -1.0], [v_abs_hat[i], v_hat[i]]), 0.0)\n",
    "        abs_minus = MOI.ScalarAffineFunction(MOI.ScalarAffineTerm.([1.0, 1.0], [v_abs_hat[i], v_hat[i]]), 0.0)\n",
    "        MOI.add_constraint(optimizer, \n",
    "                           abs_plus, \n",
    "                           MOI.GreaterThan(0.0))\n",
    "        MOI.add_constraint(optimizer, \n",
    "                           abs_minus, \n",
    "                           MOI.GreaterThan(0.0))\n",
    "end"
   ]
  },
  {
   "cell_type": "code",
   "execution_count": 55,
   "id": "281edce0",
   "metadata": {},
   "outputs": [
    {
     "name": "stdout",
     "output_type": "stream",
     "text": [
      "nnz = 8\n",
      "nnz = 8\n",
      "nnz = 8\n",
      "nnz = 8\n",
      "nnz = 8\n",
      "nnz = 8\n",
      "nnz = 8\n",
      "nnz = 8\n",
      "nnz = 8\n",
      "nnz = 8\n",
      "nnz = 8\n",
      "nnz = 8\n",
      "nnz = 8\n",
      "nnz = 8\n",
      "nnz = 8\n",
      "nnz = 8\n",
      "nnz = 8\n",
      "nnz = 8\n",
      "nnz = 8\n",
      "nnz = 8\n"
     ]
    }
   ],
   "source": [
    "W_hat = ones(n_hat);   # Initial weights.\n",
    "best_nnz = n_hat;\n",
    "best_vec = ones(n_hat);\n",
    "\n",
    "for k in 1:NUM_RUNS\n",
    "    objective_function = MOI.ScalarAffineFunction(MOI.ScalarAffineTerm.(W_hat, v_abs_hat), 0.0)\n",
    "    MOI.set(optimizer, \n",
    "            MOI.ObjectiveFunction{MOI.ScalarAffineFunction{Float64}}(),\n",
    "            objective_function)\n",
    "    MOI.set(optimizer, MOI.ObjectiveSense(), MOI.MIN_SENSE)\n",
    "    \n",
    "    MOI.optimize!(optimizer)\n",
    "    status = MOI.get(optimizer, MOI.TerminationStatus())\n",
    "    if status == MOI.OPTIMAL\n",
    "        # Ok, we solved the problem!\n",
    "        v0_hat = MOI.get(optimizer, MOI.VariablePrimal(), v_hat);\n",
    "    else\n",
    "        @show \"Not Successful\"\n",
    "    end\n",
    "\n",
    "    v0_hat = (abs.(v0_hat).>2e-5).*v0_hat;\n",
    "    nnz = sum(abs.(v0_hat) .> 2e-5);\n",
    "    @show nnz\n",
    "    if nnz < best_nnz\n",
    "        best_nnz = nnz;\n",
    "        best_vec = v0_hat;\n",
    "    end\n",
    "\n",
    "    # Adjust the weights elementwise and re-iterate\n",
    "    W_hat = W4(W_hat, v0_hat, true);\n",
    "end"
   ]
  },
  {
   "cell_type": "code",
   "execution_count": 56,
   "id": "7a9e3c98",
   "metadata": {},
   "outputs": [],
   "source": [
    "best_v0 =  make_full_v0(best_vec, non_triv_ind, n_hat);"
   ]
  },
  {
   "cell_type": "code",
   "execution_count": 57,
   "id": "f59f8105",
   "metadata": {},
   "outputs": [
    {
     "data": {
      "text/plain": [
       "8.0"
      ]
     },
     "execution_count": 57,
     "metadata": {},
     "output_type": "execute_result"
    }
   ],
   "source": [
    "norm(best_v0, 0)"
   ]
  },
  {
   "cell_type": "markdown",
   "id": "ae4ecec2",
   "metadata": {},
   "source": [
    "## Saving"
   ]
  },
  {
   "cell_type": "code",
   "execution_count": null,
   "id": "21d058d8",
   "metadata": {},
   "outputs": [],
   "source": [
    "f = open(\"T1/output.txt\", \"w\") do f\n",
    "  for data_line in best_v0\n",
    "    println(f, data_line)\n",
    "  end\n",
    "end"
   ]
  }
 ],
 "metadata": {
  "kernelspec": {
   "display_name": "Julia 1.6.1",
   "language": "julia",
   "name": "julia-1.6"
  },
  "language_info": {
   "file_extension": ".jl",
   "mimetype": "application/julia",
   "name": "julia",
   "version": "1.6.1"
  }
 },
 "nbformat": 4,
 "nbformat_minor": 5
}
